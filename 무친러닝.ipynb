{
  "cells": [
    {
      "cell_type": "markdown",
      "metadata": {
        "id": "view-in-github",
        "colab_type": "text"
      },
      "source": [
        "<a href=\"https://colab.research.google.com/github/thislis/KSHS/blob/main/%EB%AC%B4%EC%B9%9C%EB%9F%AC%EB%8B%9D.ipynb\" target=\"_parent\"><img src=\"https://colab.research.google.com/assets/colab-badge.svg\" alt=\"Open In Colab\"/></a>"
      ]
    },
    {
      "cell_type": "markdown",
      "metadata": {
        "id": "VknILVMTPVHs"
      },
      "source": [
        "딥러닝을 이용한 이미지 처리 - 글씨 인식(OCR)  \n",
        "목표 1. 글씨 이미지를 분석해 어느 글꼴에 가까운지 판단  \n",
        "목표 2. 자신의 글씨체와 가장 가까운 글꼴로 이미지를 텍스트로 변환"
      ]
    },
    {
      "cell_type": "code",
      "execution_count": null,
      "metadata": {
        "colab": {
          "base_uri": "https://localhost:8080/"
        },
        "id": "ZSz1ysIjUWia",
        "outputId": "aae81a0c-7ef4-49dd-cc73-1964474c63af"
      },
      "outputs": [
        {
          "name": "stdout",
          "output_type": "stream",
          "text": [
            "Drive already mounted at /content/drive; to attempt to forcibly remount, call drive.mount(\"/content/drive\", force_remount=True).\n"
          ]
        }
      ],
      "source": [
        "#구글 드라이브 마운트\n",
        "\n",
        "from google.colab import drive\n",
        "drive.mount('/content/drive')"
      ]
    },
    {
      "cell_type": "code",
      "execution_count": null,
      "metadata": {
        "id": "V7_SGZk6O5B8"
      },
      "outputs": [],
      "source": [
        "#!nvidia-smi -l 1"
      ]
    },
    {
      "cell_type": "code",
      "execution_count": null,
      "metadata": {
        "colab": {
          "base_uri": "https://localhost:8080/"
        },
        "id": "RtpEjI7XEzWm",
        "outputId": "f2efebd9-19ad-4027-f247-6f28e0fddb8d"
      },
      "outputs": [
        {
          "name": "stdout",
          "output_type": "stream",
          "text": [
            "Looking in indexes: https://pypi.org/simple, https://us-python.pkg.dev/colab-wheels/public/simple/\n",
            "Requirement already satisfied: kora in /usr/local/lib/python3.7/dist-packages (0.9.20)\n",
            "Requirement already satisfied: fastcore in /usr/local/lib/python3.7/dist-packages (from kora) (1.5.27)\n",
            "Requirement already satisfied: ipython in /usr/local/lib/python3.7/dist-packages (from kora) (7.9.0)\n",
            "Requirement already satisfied: packaging in /usr/local/lib/python3.7/dist-packages (from fastcore->kora) (21.3)\n",
            "Requirement already satisfied: pip in /usr/local/lib/python3.7/dist-packages (from fastcore->kora) (21.1.3)\n",
            "Requirement already satisfied: pickleshare in /usr/local/lib/python3.7/dist-packages (from ipython->kora) (0.7.5)\n",
            "Requirement already satisfied: decorator in /usr/local/lib/python3.7/dist-packages (from ipython->kora) (4.4.2)\n",
            "Requirement already satisfied: setuptools>=18.5 in /usr/local/lib/python3.7/dist-packages (from ipython->kora) (57.4.0)\n",
            "Requirement already satisfied: jedi>=0.10 in /usr/local/lib/python3.7/dist-packages (from ipython->kora) (0.18.1)\n",
            "Requirement already satisfied: pygments in /usr/local/lib/python3.7/dist-packages (from ipython->kora) (2.6.1)\n",
            "Requirement already satisfied: prompt-toolkit<2.1.0,>=2.0.0 in /usr/local/lib/python3.7/dist-packages (from ipython->kora) (2.0.10)\n",
            "Requirement already satisfied: pexpect in /usr/local/lib/python3.7/dist-packages (from ipython->kora) (4.8.0)\n",
            "Requirement already satisfied: backcall in /usr/local/lib/python3.7/dist-packages (from ipython->kora) (0.2.0)\n",
            "Requirement already satisfied: traitlets>=4.2 in /usr/local/lib/python3.7/dist-packages (from ipython->kora) (5.1.1)\n",
            "Requirement already satisfied: parso<0.9.0,>=0.8.0 in /usr/local/lib/python3.7/dist-packages (from jedi>=0.10->ipython->kora) (0.8.3)\n",
            "Requirement already satisfied: wcwidth in /usr/local/lib/python3.7/dist-packages (from prompt-toolkit<2.1.0,>=2.0.0->ipython->kora) (0.2.5)\n",
            "Requirement already satisfied: six>=1.9.0 in /usr/local/lib/python3.7/dist-packages (from prompt-toolkit<2.1.0,>=2.0.0->ipython->kora) (1.15.0)\n",
            "Requirement already satisfied: pyparsing!=3.0.5,>=2.0.2 in /usr/local/lib/python3.7/dist-packages (from packaging->fastcore->kora) (3.0.9)\n",
            "Requirement already satisfied: ptyprocess>=0.5 in /usr/local/lib/python3.7/dist-packages (from pexpect->ipython->kora) (0.7.0)\n",
            "\n"
          ]
        }
      ],
      "source": [
        "!pip install kora\n",
        "from kora import console\n",
        "console.start()"
      ]
    },
    {
      "cell_type": "code",
      "execution_count": null,
      "metadata": {
        "id": "2n2t40IJBHgQ"
      },
      "outputs": [],
      "source": [
        "#필요한 모듈 임포트\n",
        "\n",
        "import re, os\n",
        "import tensorflow as tf\n",
        "import keras_preprocessing\n",
        "from keras_preprocessing import image\n",
        "from keras_preprocessing.image import ImageDataGenerator\n",
        "from keras.callbacks import EarlyStopping, ModelCheckpoint"
      ]
    },
    {
      "cell_type": "code",
      "execution_count": null,
      "metadata": {
        "id": "it-8_sJ8UU9W"
      },
      "outputs": [],
      "source": [
        "data_path = \"/content/drive/Shareddrives/횡성 영재/data\"\n",
        "\n",
        "walrdeu = os.listdir(data_path + '/NanumWaIrDeu.ttf')\n",
        "oeharmeonigeulssi = os.listdir(data_path + '/NanumOeHarMeoNiGeurSsi.ttf')\n",
        "himnaeraneunmarbodan = os.listdir(data_path + '/NanumHimNaeRaNeunMarBoDan.ttf')\n",
        "harabeojieuinanum = os.listdir(data_path + '/NanumHarABeoJiEuiNaNum.ttf')\n",
        "yageunhaneungimjuim = os.listdir(data_path + '/NanumYaGeunHaNeunGimJuIm.ttf')"
      ]
    },
    {
      "cell_type": "code",
      "execution_count": null,
      "metadata": {
        "colab": {
          "background_save": true,
          "base_uri": "https://localhost:8080/"
        },
        "id": "QzwogdoITHDm",
        "outputId": "4ec50ee9-f066-4572-aa4e-09a7c849e387"
      },
      "outputs": [
        {
          "name": "stdout",
          "output_type": "stream",
          "text": [
            "Found 55860 images belonging to 5 classes.\n",
            "Found 30543 images belonging to 5 classes.\n",
            "<keras_preprocessing.image.directory_iterator.DirectoryIterator object at 0x7fead293e210>\n",
            "Model: \"sequential\"\n",
            "_________________________________________________________________\n",
            " Layer (type)                Output Shape              Param #   \n",
            "=================================================================\n",
            " conv2d (Conv2D)             (None, 126, 126, 64)      1792      \n",
            "                                                                 \n",
            " max_pooling2d (MaxPooling2D  (None, 63, 63, 64)       0         \n",
            " )                                                               \n",
            "                                                                 \n",
            " conv2d_1 (Conv2D)           (None, 61, 61, 64)        36928     \n",
            "                                                                 \n",
            " max_pooling2d_1 (MaxPooling  (None, 30, 30, 64)       0         \n",
            " 2D)                                                             \n",
            "                                                                 \n",
            " conv2d_2 (Conv2D)           (None, 28, 28, 128)       73856     \n",
            "                                                                 \n",
            " max_pooling2d_2 (MaxPooling  (None, 14, 14, 128)      0         \n",
            " 2D)                                                             \n",
            "                                                                 \n",
            " conv2d_3 (Conv2D)           (None, 12, 12, 128)       147584    \n",
            "                                                                 \n",
            " max_pooling2d_3 (MaxPooling  (None, 6, 6, 128)        0         \n",
            " 2D)                                                             \n",
            "                                                                 \n",
            " flatten (Flatten)           (None, 4608)              0         \n",
            "                                                                 \n",
            " dropout (Dropout)           (None, 4608)              0         \n",
            "                                                                 \n",
            " dense (Dense)               (None, 512)               2359808   \n",
            "                                                                 \n",
            " dense_1 (Dense)             (None, 5)                 2565      \n",
            "                                                                 \n",
            "=================================================================\n",
            "Total params: 2,622,533\n",
            "Trainable params: 2,622,533\n",
            "Non-trainable params: 0\n",
            "_________________________________________________________________\n",
            "Epoch 1/30\n",
            "437/437 [==============================] - ETA: 0s - loss: 0.7557 - accuracy: 0.6722\n",
            "Epoch 1: val_loss improved from inf to 0.49236, saving model to /content/drive/Shareddrives/횡성 영재/model/cloud_classify.model\n"
          ]
        },
        {
          "name": "stderr",
          "output_type": "stream",
          "text": [
            "WARNING:absl:Found untraced functions such as _jit_compiled_convolution_op, _jit_compiled_convolution_op, _jit_compiled_convolution_op, _jit_compiled_convolution_op while saving (showing 4 of 4). These functions will not be directly callable after loading.\n"
          ]
        },
        {
          "name": "stdout",
          "output_type": "stream",
          "text": [
            "437/437 [==============================] - 329s 741ms/step - loss: 0.7557 - accuracy: 0.6722 - val_loss: 0.4924 - val_accuracy: 0.7216\n",
            "Epoch 2/30\n",
            "437/437 [==============================] - ETA: 0s - loss: 0.2612 - accuracy: 0.9012\n",
            "Epoch 2: val_loss improved from 0.49236 to 0.29610, saving model to /content/drive/Shareddrives/횡성 영재/model/cloud_classify.model\n"
          ]
        },
        {
          "name": "stderr",
          "output_type": "stream",
          "text": [
            "WARNING:absl:Found untraced functions such as _jit_compiled_convolution_op, _jit_compiled_convolution_op, _jit_compiled_convolution_op, _jit_compiled_convolution_op while saving (showing 4 of 4). These functions will not be directly callable after loading.\n"
          ]
        },
        {
          "name": "stdout",
          "output_type": "stream",
          "text": [
            "437/437 [==============================] - 299s 683ms/step - loss: 0.2612 - accuracy: 0.9012 - val_loss: 0.2961 - val_accuracy: 0.8988\n",
            "Epoch 3/30\n",
            "437/437 [==============================] - ETA: 0s - loss: 0.1455 - accuracy: 0.9531\n",
            "Epoch 3: val_loss did not improve from 0.29610\n",
            "437/437 [==============================] - 296s 678ms/step - loss: 0.1455 - accuracy: 0.9531 - val_loss: 0.4319 - val_accuracy: 0.8525\n",
            "Epoch 4/30\n",
            "437/437 [==============================] - ETA: 0s - loss: 0.1045 - accuracy: 0.9691\n",
            "Epoch 4: val_loss improved from 0.29610 to 0.22822, saving model to /content/drive/Shareddrives/횡성 영재/model/cloud_classify.model\n"
          ]
        },
        {
          "name": "stderr",
          "output_type": "stream",
          "text": [
            "WARNING:absl:Found untraced functions such as _jit_compiled_convolution_op, _jit_compiled_convolution_op, _jit_compiled_convolution_op, _jit_compiled_convolution_op while saving (showing 4 of 4). These functions will not be directly callable after loading.\n"
          ]
        },
        {
          "name": "stdout",
          "output_type": "stream",
          "text": [
            "437/437 [==============================] - 297s 679ms/step - loss: 0.1045 - accuracy: 0.9691 - val_loss: 0.2282 - val_accuracy: 0.9151\n",
            "Epoch 5/30\n",
            "437/437 [==============================] - ETA: 0s - loss: 0.0861 - accuracy: 0.9759\n",
            "Epoch 5: val_loss improved from 0.22822 to 0.14756, saving model to /content/drive/Shareddrives/횡성 영재/model/cloud_classify.model\n"
          ]
        },
        {
          "name": "stderr",
          "output_type": "stream",
          "text": [
            "WARNING:absl:Found untraced functions such as _jit_compiled_convolution_op, _jit_compiled_convolution_op, _jit_compiled_convolution_op, _jit_compiled_convolution_op while saving (showing 4 of 4). These functions will not be directly callable after loading.\n"
          ]
        },
        {
          "name": "stdout",
          "output_type": "stream",
          "text": [
            "437/437 [==============================] - 298s 683ms/step - loss: 0.0861 - accuracy: 0.9759 - val_loss: 0.1476 - val_accuracy: 0.9319\n",
            "Epoch 6/30\n",
            "437/437 [==============================] - ETA: 0s - loss: 0.0673 - accuracy: 0.9815\n",
            "Epoch 6: val_loss did not improve from 0.14756\n",
            "437/437 [==============================] - 296s 678ms/step - loss: 0.0673 - accuracy: 0.9815 - val_loss: 0.2792 - val_accuracy: 0.9134\n",
            "Epoch 7/30\n",
            "437/437 [==============================] - ETA: 0s - loss: 0.0620 - accuracy: 0.9820\n",
            "Epoch 7: val_loss did not improve from 0.14756\n",
            "437/437 [==============================] - 296s 678ms/step - loss: 0.0620 - accuracy: 0.9820 - val_loss: 1.8753 - val_accuracy: 0.5165\n",
            "Epoch 8/30\n",
            "437/437 [==============================] - ETA: 0s - loss: 0.0668 - accuracy: 0.9837\n",
            "Epoch 8: val_loss did not improve from 0.14756\n",
            "437/437 [==============================] - 297s 680ms/step - loss: 0.0668 - accuracy: 0.9837 - val_loss: 0.5608 - val_accuracy: 0.8722\n",
            "Epoch 9/30\n",
            "437/437 [==============================] - ETA: 0s - loss: 0.0533 - accuracy: 0.9851\n",
            "Epoch 9: val_loss did not improve from 0.14756\n",
            "437/437 [==============================] - 298s 682ms/step - loss: 0.0533 - accuracy: 0.9851 - val_loss: 1.0773 - val_accuracy: 0.7933\n",
            "Epoch 10/30\n",
            "437/437 [==============================] - ETA: 0s - loss: 0.0663 - accuracy: 0.9857\n",
            "Epoch 10: val_loss did not improve from 0.14756\n",
            "437/437 [==============================] - 297s 680ms/step - loss: 0.0663 - accuracy: 0.9857 - val_loss: 0.8079 - val_accuracy: 0.8719\n",
            "Epoch 11/30\n",
            "437/437 [==============================] - ETA: 0s - loss: 0.0496 - accuracy: 0.9864\n",
            "Epoch 11: val_loss did not improve from 0.14756\n",
            "437/437 [==============================] - 297s 680ms/step - loss: 0.0496 - accuracy: 0.9864 - val_loss: 0.2613 - val_accuracy: 0.9431\n"
          ]
        }
      ],
      "source": [
        "TRAINING_DIR = \"/content/drive/Shareddrives/횡성 영재/data\"\n",
        "VALIDATION_DIR = \"/content/drive/Shareddrives/횡성 영재/test\"\n",
        "training_datagen = ImageDataGenerator(\n",
        "    rescale = 1./255,\n",
        "    rotation_range=40,\n",
        "    width_shift_range=0.2,\n",
        "    height_shift_range=0.2,\n",
        "    shear_range=0.2,\n",
        "    zoom_range=0.2,\n",
        "    horizontal_flip=True,\n",
        "    fill_mode='nearest')\n",
        "\n",
        "train_generator = training_datagen.flow_from_directory(\n",
        "TRAINING_DIR,\n",
        "target_size=(128,128),\n",
        "class_mode='categorical',\n",
        "batch_size=128\n",
        ")\n",
        "\n",
        "\n",
        "validation_datagen = ImageDataGenerator(rescale = 1./255)\n",
        "\n",
        "validation_generator = validation_datagen.flow_from_directory(\n",
        "VALIDATION_DIR,\n",
        "target_size=(128,128),\n",
        "class_mode='categorical',\n",
        "batch_size=128\n",
        ")\n",
        "\n",
        "print(train_generator)\n",
        "\n",
        "model = tf.keras.models.Sequential([\n",
        "  # Note the input shape is the desired size of the image 128** with 3 bytes color\n",
        "  # This is the first convolution\n",
        "  tf.keras.layers.Conv2D(64, (3,3), activation='relu', input_shape=(128, 128, 3)),\n",
        "  tf.keras.layers.MaxPooling2D(2, 2),\n",
        "  # The second convolution\n",
        "  tf.keras.layers.Conv2D(64, (3,3), activation='relu'),\n",
        "  tf.keras.layers.MaxPooling2D(2,2),\n",
        "  # The third convolution\n",
        "  tf.keras.layers.Conv2D(128, (3,3), activation='relu'),\n",
        "  tf.keras.layers.MaxPooling2D(2,2),\n",
        "  # The fourth convolution\n",
        "  tf.keras.layers.Conv2D(128, (3,3), activation='relu'),\n",
        "  tf.keras.layers.MaxPooling2D(2,2),\n",
        "  # Flatten the results to feed into a DNN\n",
        "  tf.keras.layers.Flatten(),\n",
        "  tf.keras.layers.Dropout(0.5),\n",
        "  # 512 neuron hidden layer\n",
        "  tf.keras.layers.Dense(512, activation='relu'),\n",
        "  tf.keras.layers.Dense(5, activation='softmax')\n",
        "])\n",
        "\n",
        "\n",
        "model.summary()\n",
        "\n",
        "model_dir = '/content/drive/Shareddrives/횡성 영재/model'\n",
        "model_path = model_dir + \"/classify.model\"\n",
        "# 모델결과 저장 및 earlystopping\n",
        "checkpoint = ModelCheckpoint(filepath = model_path, monitor='val_loss', verbose = 1, save_best_only = True)\n",
        "early_stopping = EarlyStopping(monitor = 'val_loss', patience = 6)\n",
        "\n",
        "\n",
        "model.compile(loss = 'categorical_crossentropy', optimizer='rmsprop', metrics=['accuracy'])\n",
        "\n",
        "history = model.fit(train_generator, batch_size = 128, epochs=30, validation_data = validation_generator, callbacks = [checkpoint, early_stopping])"
      ]
    }
  ],
  "metadata": {
    "accelerator": "GPU",
    "colab": {
      "collapsed_sections": [],
      "machine_shape": "hm",
      "provenance": [],
      "mount_file_id": "1krrxYfPv0_RP8rJdhstARs-5Gpj_Q856",
      "authorship_tag": "ABX9TyNIh5kVEWrV5USgECzHE7do",
      "include_colab_link": true
    },
    "gpuClass": "premium",
    "kernelspec": {
      "display_name": "Python 3",
      "name": "python3"
    },
    "language_info": {
      "name": "python"
    }
  },
  "nbformat": 4,
  "nbformat_minor": 0
}